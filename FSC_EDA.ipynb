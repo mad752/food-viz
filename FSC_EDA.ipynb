{
 "cells": [
  {
   "cell_type": "markdown",
   "metadata": {},
   "source": [
    "Importing Pandas and matplotlib for basic EDA on Food supply chain dataset."
   ]
  },
  {
   "cell_type": "code",
   "execution_count": 23,
   "metadata": {},
   "outputs": [],
   "source": [
    "import pandas as pd\n",
    "import matplotlib.pyplot as plt"
   ]
  },
  {
   "cell_type": "markdown",
   "metadata": {},
   "source": [
    "Reading the dataset from \"https://www.fao.org/platform-food-loss-waste/flw-data/en/\" and download it to the local.The Classiifcation should also be done classifying items to Dry Cereals, Fruits, Vegetables, Milk, Egg and Meat using Excel file."
   ]
  },
  {
   "cell_type": "code",
   "execution_count": 24,
   "metadata": {},
   "outputs": [
    {
     "name": "stdout",
     "output_type": "stream",
     "text": [
      "       geographicaream49  country          crop Classiifcation  \\\n",
      "0                  108.0  Burundi         Wheat    Dry Cereals   \n",
      "1                  108.0  Burundi         Wheat    Dry Cereals   \n",
      "2                  108.0  Burundi         Wheat    Dry Cereals   \n",
      "3                  108.0  Burundi         Wheat    Dry Cereals   \n",
      "4                  108.0  Burundi         Wheat    Dry Cereals   \n",
      "...                  ...      ...           ...            ...   \n",
      "10335              854.0   Zambia  Maize (corn)    Dry Cereals   \n",
      "10336              854.0   Zambia  Maize (corn)    Dry Cereals   \n",
      "10337              854.0   Zambia  Maize (corn)    Dry Cereals   \n",
      "10338              854.0   Zambia  Maize (corn)    Dry Cereals   \n",
      "10339              854.0   Zambia  Maize (corn)    Dry Cereals   \n",
      "\n",
      "       timepointyears  percentage_loss_of_quantity fsc_location1  \n",
      "0                2011                          2.7     Wholesale  \n",
      "1                2011                          3.5          Farm  \n",
      "2                2011                          4.4       Harvest  \n",
      "3                2011                          1.0     Transport  \n",
      "4                2011                          2.5          Farm  \n",
      "...               ...                          ...           ...  \n",
      "10335            2004                          3.3          Farm  \n",
      "10336            2004                          1.4     Wholesale  \n",
      "10337            2004                          1.7          Farm  \n",
      "10338            2004                          2.2       Harvest  \n",
      "10339            2004                          2.7       Storage  \n",
      "\n",
      "[10340 rows x 7 columns]\n"
     ]
    }
   ],
   "source": [
    "df = pd.read_csv(\"Food_Supply_Chain.csv\")\n",
    "print (df)"
   ]
  },
  {
   "cell_type": "code",
   "execution_count": 25,
   "metadata": {},
   "outputs": [
    {
     "name": "stdout",
     "output_type": "stream",
     "text": [
      "['Burundi' 'Cambodia' 'Algeria' 'Cameroon' 'Sri Lanka' 'Chad' 'Chile'\n",
      " 'China' 'Colombia' 'Democratic Republic of the Congo' 'Costa Rica' 'Cuba'\n",
      " 'Benin' 'Denmark' 'Ecuador' 'El Salvador' 'Ethiopia' 'Eritrea' 'Angola'\n",
      " 'Fiji' 'Finland' 'Gabon' 'Gambia' 'Ghana' 'Azerbaijan' 'Guatemala'\n",
      " 'Guinea' 'Guyana' 'Honduras' 'India' 'Australia' 'Indonesia'\n",
      " 'Iran (Islamic Republic of)' \"C√¥te d'Ivoire\" 'Kazakhstan' 'Austria'\n",
      " 'Jordan' 'Kenya' \"Democratic People's Republic of Korea\"\n",
      " 'Republic of Korea' \"Lao People's Democratic Republic\" 'Lesotho'\n",
      " 'Liberia' 'Madagascar' 'Malawi' 'Malaysia' 'Mali' 'Mauritania' 'Bahrain'\n",
      " 'Mexico' 'Bangladesh' 'Mozambique' 'Oman' 'Namibia' 'Nepal' 'New Zealand'\n",
      " 'Nicaragua' 'Niger' 'Nigeria' 'Norway' 'Pakistan' 'Panama' 'Peru'\n",
      " 'Philippines' 'Guinea-Bissau' 'Timor-Leste' 'Rwanda' 'Saint Lucia'\n",
      " 'Bolivia (Plurinational State of)' 'Senegal' 'Sierra Leone' 'Viet Nam'\n",
      " 'Somalia' 'South Africa' 'Zimbabwe' 'Botswana' 'South Sudan' 'Sudan'\n",
      " 'Eswatini' 'Sweden' 'Switzerland' 'Brazil' 'Thailand' 'Togo'\n",
      " 'Trinidad and Tobago' 'Tunisia' 'Turkey' 'Uganda' 'Egypt'\n",
      " 'United Kingdom' 'United Republic of Tanzania' 'United States of America'\n",
      " 'Burkina Faso' 'Zambia']\n"
     ]
    }
   ],
   "source": [
    "#Finding the unique country list to group by countries\n",
    "country_list = df['country'].unique()\n",
    "print(country_list)"
   ]
  },
  {
   "cell_type": "code",
   "execution_count": 4,
   "metadata": {},
   "outputs": [
    {
     "name": "stdout",
     "output_type": "stream",
     "text": [
      "country   crop          timepointyears  fsc_location1   \n",
      "Algeria   Potatoes      2005            WholeSupplyChain    25.0\n",
      "Angola    Maize (corn)  2003            Farm                 4.0\n",
      "                                        Harvest              6.4\n",
      "                                        Storage              4.8\n",
      "                                        Transport            1.7\n",
      "                                                            ... \n",
      "Zimbabwe  Sorghum       2015            Farm                 3.6\n",
      "                                        Harvest              4.6\n",
      "                                        Storage              3.4\n",
      "                                        Transport            1.0\n",
      "                                        Wholesale            2.7\n",
      "Name: percentage_loss_of_quantity, Length: 7945, dtype: float64\n"
     ]
    }
   ],
   "source": [
    "#The raw dataset has multiple food supply chain location fsc_location1 and \n",
    "#we are grouping them using the maximum percentage of loss\n",
    "grouped_1 = df.groupby(['country','crop','timepointyears','fsc_location1'])['percentage_loss_of_quantity'].max()\n",
    "print(grouped_1)"
   ]
  },
  {
   "cell_type": "markdown",
   "metadata": {},
   "source": [
    "####\n",
    "The classification of crops to Dry Cereals, Fruits, Vegetables, Milk, Egg and Meat is done and\n",
    "here we are grouping the data using Geographic area, country, crop, classification, Years, Food supply location with maximum percentage of loss\n",
    "####"
   ]
  },
  {
   "cell_type": "code",
   "execution_count": 5,
   "metadata": {},
   "outputs": [
    {
     "name": "stdout",
     "output_type": "stream",
     "text": [
      "      geographicaream49   country          crop Classiifcation  \\\n",
      "0                   1.0   Lesotho       Sorghum    Dry Cereals   \n",
      "1                  12.0  Cameroon  Maize (corn)    Dry Cereals   \n",
      "2                  24.0    Angola  Maize (corn)    Dry Cereals   \n",
      "3                  24.0    Angola  Maize (corn)    Dry Cereals   \n",
      "4                  24.0    Angola  Maize (corn)    Dry Cereals   \n",
      "...                 ...       ...           ...            ...   \n",
      "7936              854.0    Zambia  Maize (corn)    Dry Cereals   \n",
      "7937              854.0    Zambia  Maize (corn)    Dry Cereals   \n",
      "7938              854.0    Zambia  Maize (corn)    Dry Cereals   \n",
      "7939              854.0    Zambia  Maize (corn)    Dry Cereals   \n",
      "7940              854.0    Zambia  Maize (corn)    Dry Cereals   \n",
      "\n",
      "      timepointyears fsc_location1  percentage_loss_of_quantity  \n",
      "0               2010          Farm                          2.2  \n",
      "1               2013       Storage                          7.1  \n",
      "2               2003          Farm                          4.0  \n",
      "3               2003       Harvest                          6.4  \n",
      "4               2003       Storage                          4.8  \n",
      "...              ...           ...                          ...  \n",
      "7936            2007          Farm                          3.8  \n",
      "7937            2007       Harvest                          5.1  \n",
      "7938            2007       Storage                          2.2  \n",
      "7939            2007     Transport                          1.3  \n",
      "7940            2007     Wholesale                          2.7  \n",
      "\n",
      "[7941 rows x 7 columns]\n"
     ]
    }
   ],
   "source": [
    "df_group = df.groupby(['geographicaream49','country','crop','Classiifcation','timepointyears','fsc_location1']).agg({'percentage_loss_of_quantity':'max'})\n",
    "df_new = pd.DataFrame(df_group).reset_index()\n",
    "print(df_new)\n"
   ]
  },
  {
   "cell_type": "code",
   "execution_count": 6,
   "metadata": {},
   "outputs": [],
   "source": [
    "df_new.to_csv('out.csv',index=False) #Output the file to df_new.csv"
   ]
  },
  {
   "cell_type": "markdown",
   "metadata": {},
   "source": [
    "Trying to plot the data from years 2014 to 2018 and creating a new dataframe for that timeframe."
   ]
  },
  {
   "cell_type": "code",
   "execution_count": 8,
   "metadata": {},
   "outputs": [
    {
     "name": "stdout",
     "output_type": "stream",
     "text": [
      "      geographicaream49       country                        crop  \\\n",
      "163                24.0       Finland         Carrots and turnips   \n",
      "164                24.0       Finland         Carrots and turnips   \n",
      "165                24.0       Finland  Onions and shallots, green   \n",
      "166                24.0       Finland          Other fruits, n.e.   \n",
      "168                24.0       Finland                   Peas, dry   \n",
      "...                 ...           ...                         ...   \n",
      "7806              840.0  Burkina Faso                     Sorghum   \n",
      "7807              840.0  Burkina Faso                     Sorghum   \n",
      "7808              840.0  Burkina Faso                     Sorghum   \n",
      "7809              840.0  Burkina Faso                     Sorghum   \n",
      "7810              840.0  Burkina Faso                     Sorghum   \n",
      "\n",
      "     Classiifcation  timepointyears fsc_location1  percentage_loss_of_quantity  \n",
      "163      Vegetables            2017          Farm                         15.0  \n",
      "164      Vegetables            2017       Harvest                          6.2  \n",
      "165      Vegetables            2017          Farm                         11.0  \n",
      "166          Fruits            2014      Consumer                         13.0  \n",
      "168      Vegetables            2017          Farm                         17.7  \n",
      "...             ...             ...           ...                          ...  \n",
      "7806    Dry Cereals            2014          Farm                          3.6  \n",
      "7807    Dry Cereals            2014       Harvest                          4.6  \n",
      "7808    Dry Cereals            2014       Storage                          1.9  \n",
      "7809    Dry Cereals            2014     Transport                          1.0  \n",
      "7810    Dry Cereals            2014     Wholesale                          2.7  \n",
      "\n",
      "[839 rows x 7 columns]\n"
     ]
    }
   ],
   "source": [
    "df_1418 = df_new[df_new['timepointyears']>=2014]\n",
    "print(df_1418)"
   ]
  },
  {
   "cell_type": "code",
   "execution_count": 9,
   "metadata": {},
   "outputs": [
    {
     "name": "stdout",
     "output_type": "stream",
     "text": [
      "                                  country  percentage_loss_of_quantity\n",
      "0                               Australia                    77.650000\n",
      "1                              Bangladesh                    13.196250\n",
      "2                                   Benin                    28.100000\n",
      "3                            Burkina Faso                     2.605714\n",
      "4                                   Chile                     3.500000\n",
      "5                                   China                     3.300000\n",
      "6                                Colombia                     7.923333\n",
      "7                              Costa Rica                     6.500000\n",
      "8   Democratic People's Republic of Korea                    16.315000\n",
      "9                                 Denmark                    13.933333\n",
      "10                                Ecuador                     4.616667\n",
      "11                               Ethiopia                     3.629167\n",
      "12                                Finland                    10.580000\n",
      "13                                  Ghana                    11.500000\n",
      "14                              Guatemala                     6.160000\n",
      "15                                 Guyana                    12.500000\n",
      "16                               Honduras                     5.951667\n",
      "17                                  India                     2.870887\n",
      "18                             Kazakhstan                    12.300000\n",
      "19                                  Kenya                     8.872222\n",
      "20                                 Malawi                     3.560811\n",
      "21                                 Mexico                    18.629333\n",
      "22                                  Nepal                    32.000000\n",
      "23                                  Niger                    14.000000\n",
      "24                                Nigeria                     3.355577\n",
      "25                                 Norway                    10.153333\n",
      "26                               Pakistan                    11.632000\n",
      "27                                   Peru                     6.413333\n",
      "28                            Philippines                    12.000000\n",
      "29                      Republic of Korea                    14.417368\n",
      "30                            Saint Lucia                     6.666667\n",
      "31                                Senegal                     2.801852\n",
      "32                                Somalia                     3.070000\n",
      "33                                 Sweden                    14.225000\n",
      "34                            Switzerland                     0.021000\n",
      "35                            Timor-Leste                     3.812500\n",
      "36                                   Togo                     2.680392\n",
      "37                    Trinidad and Tobago                     9.000000\n",
      "38                                 Turkey                     5.996828\n",
      "39                                 Uganda                     3.553521\n",
      "40                         United Kingdom                    28.875000\n",
      "41            United Republic of Tanzania                     6.900000\n",
      "42               United States of America                    16.000000\n",
      "43                               Viet Nam                     7.500000\n",
      "44                               Zimbabwe                     2.956667\n"
     ]
    }
   ],
   "source": [
    "#Calculating the mean percentage loss for each country\n",
    "df_gb = pd.DataFrame(df_1418.groupby(['country']).agg({'percentage_loss_of_quantity':'mean'})).reset_index()\n",
    "print(df_gb)"
   ]
  },
  {
   "cell_type": "code",
   "execution_count": 10,
   "metadata": {},
   "outputs": [
    {
     "data": {
      "image/png": "[encoded data removed]",
      "text/plain": [
       "<Figure size 720x720 with 1 Axes>"
      ]
     },
     "metadata": {
      "needs_background": "light"
     },
     "output_type": "display_data"
    }
   ],
   "source": [
    "#Plotting the Food loss per country 2014-2018\n",
    "\n",
    "x_ax = df_gb['country']\n",
    "leng = len(x_ax) + 10\n",
    "y_ax = df_gb['percentage_loss_of_quantity']\n",
    "plt.figure(figsize=(10,10))\n",
    "plt.bar(range(len(x_ax)),y_ax,color=['red','black'])\n",
    "plt.xticks(range(len(x_ax)),x_ax, rotation='vertical')\n",
    "plt.xlabel('Country')\n",
    "plt.ylabel('Loss Percentage')\n",
    "plt.title(\"Food Loss per country 2014-2018\")\n",
    "plt.show()"
   ]
  },
  {
   "cell_type": "code",
   "execution_count": 11,
   "metadata": {},
   "outputs": [
    {
     "name": "stdout",
     "output_type": "stream",
     "text": [
      "     geographicaream49   country          crop Classiifcation  timepointyears  \\\n",
      "1                 12.0  Cameroon  Maize (corn)    Dry Cereals            2013   \n",
      "613              116.0  Cameroon  Maize (corn)    Dry Cereals            2013   \n",
      "614              116.0  Cameroon  Maize (corn)    Dry Cereals            2013   \n",
      "615              116.0  Cameroon  Maize (corn)    Dry Cereals            2013   \n",
      "616              116.0  Cameroon  Maize (corn)    Dry Cereals            2013   \n",
      "..                 ...       ...           ...            ...             ...   \n",
      "743              120.0  Cameroon       Sorghum    Dry Cereals            2010   \n",
      "744              120.0  Cameroon       Sorghum    Dry Cereals            2010   \n",
      "745              120.0  Cameroon       Sorghum    Dry Cereals            2010   \n",
      "746              120.0  Cameroon       Sorghum    Dry Cereals            2010   \n",
      "747              120.0  Cameroon       Sorghum    Dry Cereals            2010   \n",
      "\n",
      "    fsc_location1  percentage_loss_of_quantity  \n",
      "1         Storage                          7.1  \n",
      "613          Farm                          3.8  \n",
      "614       Harvest                          5.1  \n",
      "615     Transport                          1.3  \n",
      "616     Wholesale                          2.7  \n",
      "..            ...                          ...  \n",
      "743          Farm                          3.6  \n",
      "744       Harvest                          4.6  \n",
      "745       Storage                          2.9  \n",
      "746     Transport                          1.0  \n",
      "747     Wholesale                          2.7  \n",
      "\n",
      "[136 rows x 7 columns]\n",
      "      geographicaream49  country          crop Classiifcation  timepointyears  \\\n",
      "4132              562.0  Nigeria  Maize (corn)    Dry Cereals            2013   \n",
      "4133              562.0  Nigeria  Maize (corn)    Dry Cereals            2013   \n",
      "4134              562.0  Nigeria  Maize (corn)    Dry Cereals            2013   \n",
      "4135              562.0  Nigeria  Maize (corn)    Dry Cereals            2014   \n",
      "4136              562.0  Nigeria  Maize (corn)    Dry Cereals            2014   \n",
      "...                 ...      ...           ...            ...             ...   \n",
      "4361              566.0  Nigeria      Tomatoes     Vegetables            2010   \n",
      "4362              566.0  Nigeria      Tomatoes     Vegetables            2010   \n",
      "4363              566.0  Nigeria          Yams     Vegetables            2010   \n",
      "4364              566.0  Nigeria          Yams     Vegetables            2010   \n",
      "4365              566.0  Nigeria          Yams     Vegetables            2010   \n",
      "\n",
      "     fsc_location1  percentage_loss_of_quantity  \n",
      "4132          Farm                         3.90  \n",
      "4133    Processing                         1.93  \n",
      "4134     Wholesale                         4.94  \n",
      "4135          Farm                         4.00  \n",
      "4136       Harvest                         6.40  \n",
      "...            ...                          ...  \n",
      "4361       Harvest                        20.00  \n",
      "4362     Transport                        28.00  \n",
      "4363          Farm                        14.50  \n",
      "4364       Storage                        22.50  \n",
      "4365     Transport                         7.50  \n",
      "\n",
      "[234 rows x 7 columns]\n"
     ]
    }
   ],
   "source": [
    "#choosing 2 random countries to be plotted and \n",
    "#below few plots would show Top 5 years with low loss and high loss for these 2 countries.\n",
    "\n",
    "df_c1 = df_new[df_new['country']=='Cameroon']\n",
    "print(df_c1)\n",
    "df_c2 = df_new[df_new['country']=='Nigeria']\n",
    "print(df_c2)\n"
   ]
  },
  {
   "cell_type": "code",
   "execution_count": 12,
   "metadata": {},
   "outputs": [
    {
     "name": "stdout",
     "output_type": "stream",
     "text": [
      "    timepointyears  percentage_loss_of_quantity\n",
      "0             2003                     3.100000\n",
      "1             2004                     3.100000\n",
      "2             2005                     3.100000\n",
      "3             2006                     3.100000\n",
      "4             2007                     3.100000\n",
      "5             2008                     3.120000\n",
      "6             2009                     3.120000\n",
      "7             2010                     3.120000\n",
      "8             2011                     4.000000\n",
      "9             2012                     4.000000\n",
      "10            2013                     9.166667\n",
      "    timepointyears  percentage_loss_of_quantity\n",
      "6             2009                     3.120000\n",
      "7             2010                     3.120000\n",
      "8             2011                     4.000000\n",
      "9             2012                     4.000000\n",
      "10            2013                     9.166667\n",
      "   timepointyears  percentage_loss_of_quantity\n",
      "0            2003                          3.1\n",
      "1            2004                          3.1\n",
      "2            2005                          3.1\n",
      "3            2006                          3.1\n",
      "4            2007                          3.1\n"
     ]
    }
   ],
   "source": [
    "df_cp1 = pd.DataFrame(df_c1.groupby(['timepointyears']).agg({'percentage_loss_of_quantity':'mean'})).reset_index()\n",
    "print(df_cp1)\n",
    "df_high1 = df_cp1.tail(5)\n",
    "print(df_high1)\n",
    "df_low1 = df_cp1.head(5)\n",
    "print(df_low1)"
   ]
  },
  {
   "cell_type": "code",
   "execution_count": 13,
   "metadata": {},
   "outputs": [
    {
     "data": {
      "image/png": "[encoded data removed]",
      "text/plain": [
       "<Figure size 432x288 with 1 Axes>"
      ]
     },
     "metadata": {
      "needs_background": "light"
     },
     "output_type": "display_data"
    }
   ],
   "source": [
    "x_ax = df_high1['timepointyears']\n",
    "leng = len(x_ax) + 10\n",
    "y_ax = df_high1['percentage_loss_of_quantity']\n",
    "#plt.figure(figsize=(10,10))\n",
    "plt.bar(x_ax,y_ax)\n",
    "plt.xticks()\n",
    "plt.yticks(y_ax)\n",
    "plt.xlabel('Years')\n",
    "plt.ylabel('Loss Percentage')\n",
    "plt.title(\"Top 5 years for Cameroon with high loss\")\n",
    "plt.show()"
   ]
  },
  {
   "cell_type": "code",
   "execution_count": 14,
   "metadata": {},
   "outputs": [
    {
     "data": {
      "image/png": "[encoded data removed]",
      "text/plain": [
       "<Figure size 432x288 with 1 Axes>"
      ]
     },
     "metadata": {
      "needs_background": "light"
     },
     "output_type": "display_data"
    }
   ],
   "source": [
    "x_ax = df_low1['timepointyears']\n",
    "leng = len(x_ax) + 10\n",
    "y_ax = df_low1['percentage_loss_of_quantity']\n",
    "#plt.figure(figsize=(5,5))\n",
    "plt.bar(x_ax,y_ax)\n",
    "plt.xticks()\n",
    "#plt.yticks(y_ax)\n",
    "plt.xlabel('Years')\n",
    "plt.ylabel('Loss Percentage')\n",
    "plt.title(\"Top 5 years for Cameroon with low loss\")\n",
    "plt.show()"
   ]
  },
  {
   "cell_type": "code",
   "execution_count": 15,
   "metadata": {},
   "outputs": [
    {
     "name": "stdout",
     "output_type": "stream",
     "text": [
      "    timepointyears  percentage_loss_of_quantity\n",
      "7             2011                     2.810000\n",
      "4             2008                     2.820000\n",
      "5             2009                     2.820000\n",
      "8             2012                     2.830000\n",
      "1             2004                     2.845000\n",
      "2             2005                     2.845000\n",
      "3             2006                     2.845000\n",
      "0             2003                     2.850000\n",
      "10            2014                     3.216333\n",
      "11            2015                     3.430000\n",
      "9             2013                     4.546000\n",
      "12            2016                     4.700000\n",
      "6             2010                     8.295161\n",
      "    timepointyears  percentage_loss_of_quantity\n",
      "10            2014                     3.216333\n",
      "11            2015                     3.430000\n",
      "9             2013                     4.546000\n",
      "12            2016                     4.700000\n",
      "6             2010                     8.295161\n",
      "   timepointyears  percentage_loss_of_quantity\n",
      "7            2011                        2.810\n",
      "4            2008                        2.820\n",
      "5            2009                        2.820\n",
      "8            2012                        2.830\n",
      "1            2004                        2.845\n"
     ]
    }
   ],
   "source": [
    "df_cp2 = pd.DataFrame(df_c2.groupby(['timepointyears']).agg({'percentage_loss_of_quantity':'mean'})).reset_index()\n",
    "df_cp2 = df_cp2.sort_values(by = ['percentage_loss_of_quantity'])\n",
    "print(df_cp2)\n",
    "df_high2 = df_cp2.tail(5)\n",
    "print(df_high2)\n",
    "df_low2 = df_cp2.head(5)\n",
    "print(df_low2)"
   ]
  },
  {
   "cell_type": "code",
   "execution_count": 16,
   "metadata": {},
   "outputs": [
    {
     "data": {
      "image/png": "[encoded data removed]",
      "text/plain": [
       "<Figure size 432x288 with 1 Axes>"
      ]
     },
     "metadata": {
      "needs_background": "light"
     },
     "output_type": "display_data"
    }
   ],
   "source": [
    "x_ax = df_high2['timepointyears']\n",
    "leng = len(x_ax) + 10\n",
    "y_ax = df_high2['percentage_loss_of_quantity']\n",
    "#plt.figure(figsize=(10,10))\n",
    "plt.bar(x_ax,y_ax)\n",
    "plt.xticks()\n",
    "#plt.yticks(y_ax)\n",
    "plt.xlabel('Years')\n",
    "plt.ylabel('Loss Percentage')\n",
    "plt.title(\"Top 5 years for Nigeria with high loss\")\n",
    "plt.show()"
   ]
  },
  {
   "cell_type": "code",
   "execution_count": 17,
   "metadata": {},
   "outputs": [
    {
     "data": {
      "image/png": "[encoded data removed]",
      "text/plain": [
       "<Figure size 432x288 with 1 Axes>"
      ]
     },
     "metadata": {
      "needs_background": "light"
     },
     "output_type": "display_data"
    }
   ],
   "source": [
    "x_ax = df_low2['timepointyears']\n",
    "leng = len(x_ax) + 10\n",
    "y_ax = df_low2['percentage_loss_of_quantity']\n",
    "#plt.figure(figsize=(5,5))\n",
    "plt.bar(x_ax,y_ax)\n",
    "plt.xticks()\n",
    "#plt.yticks(y_ax)\n",
    "plt.xlabel('Years')\n",
    "plt.ylabel('Loss Percentage')\n",
    "plt.title(\"Top 5 years for Cameroon with low loss\")\n",
    "plt.show()"
   ]
  },
  {
   "cell_type": "code",
   "execution_count": 18,
   "metadata": {},
   "outputs": [
    {
     "name": "stdout",
     "output_type": "stream",
     "text": [
      "      geographicaream49     country      crop Classiifcation  timepointyears  \\\n",
      "184                50.0  Bangladesh   Bananas         Fruits            2010   \n",
      "185                50.0  Bangladesh   Bananas         Fruits            2010   \n",
      "186                50.0  Bangladesh   Bananas         Fruits            2010   \n",
      "187                50.0  Bangladesh   Bananas         Fruits            2010   \n",
      "188                50.0  Bangladesh   Bananas         Fruits            2010   \n",
      "...                 ...         ...       ...            ...             ...   \n",
      "3822              484.0  Bangladesh  Tomatoes     Vegetables            2016   \n",
      "3823              484.0  Bangladesh     Wheat    Dry Cereals            2010   \n",
      "3824              484.0  Bangladesh     Wheat    Dry Cereals            2010   \n",
      "3825              484.0  Bangladesh     Wheat    Dry Cereals            2010   \n",
      "3826              484.0  Bangladesh     Wheat    Dry Cereals            2010   \n",
      "\n",
      "         fsc_location1  percentage_loss_of_quantity  \n",
      "184       Distribution                         8.60  \n",
      "185               Farm                         7.70  \n",
      "186             Retail                         3.20  \n",
      "187           Traderss                         5.10  \n",
      "188   WholeSupplyChain                        24.60  \n",
      "...                ...                          ...  \n",
      "3822      Distribution                         2.60  \n",
      "3823              Farm                        21.70  \n",
      "3824           Harvest                        40.85  \n",
      "3825           Storage                         4.68  \n",
      "3826         Transport                         5.53  \n",
      "\n",
      "[100 rows x 7 columns]\n",
      "    timepointyears     fsc_location1  percentage_loss_of_quantity\n",
      "0             2004  WholeSupplyChain                    30.010000\n",
      "1             2008              Farm                    41.450000\n",
      "2             2009          Consumer                     3.610000\n",
      "3             2009      Distribution                     0.180000\n",
      "4             2009              Farm                     1.177500\n",
      "5             2009           Harvest                     2.128750\n",
      "6             2009        Processing                     2.285000\n",
      "7             2009       Restaurants                     4.520000\n",
      "8             2009            Retail                     1.525000\n",
      "9             2009           Storage                     3.405000\n",
      "10            2009           Traders                     1.550000\n",
      "11            2009         Transport                     0.393333\n",
      "12            2009  WholeSupplyChain                    11.142500\n",
      "13            2009         Wholesale                     1.145000\n",
      "14            2010      Distribution                     8.325455\n",
      "15            2010              Farm                     8.846667\n",
      "16            2010           Harvest                    30.135000\n",
      "17            2010        Processing                     1.292500\n",
      "18            2010            Retail                     6.641818\n",
      "19            2010           Storage                     5.847500\n",
      "20            2010           Traders                     7.400000\n",
      "21            2010          Traderss                     8.416667\n",
      "22            2010         Transport                     7.580000\n",
      "23            2010  WholeSupplyChain                    31.911111\n",
      "24            2012           Storage                     3.960000\n",
      "25            2014              Farm                    25.185000\n",
      "26            2014          Traderss                    10.000000\n",
      "27            2014         Transport                    15.000000\n",
      "28            2016      Distribution                     2.600000\n",
      "     geographicaream49   country          crop Classiifcation  timepointyears  \\\n",
      "1                 12.0  Cameroon  Maize (corn)    Dry Cereals            2013   \n",
      "613              116.0  Cameroon  Maize (corn)    Dry Cereals            2013   \n",
      "614              116.0  Cameroon  Maize (corn)    Dry Cereals            2013   \n",
      "615              116.0  Cameroon  Maize (corn)    Dry Cereals            2013   \n",
      "616              116.0  Cameroon  Maize (corn)    Dry Cereals            2013   \n",
      "..                 ...       ...           ...            ...             ...   \n",
      "743              120.0  Cameroon       Sorghum    Dry Cereals            2010   \n",
      "744              120.0  Cameroon       Sorghum    Dry Cereals            2010   \n",
      "745              120.0  Cameroon       Sorghum    Dry Cereals            2010   \n",
      "746              120.0  Cameroon       Sorghum    Dry Cereals            2010   \n",
      "747              120.0  Cameroon       Sorghum    Dry Cereals            2010   \n",
      "\n",
      "    fsc_location1  percentage_loss_of_quantity  \n",
      "1         Storage                          7.1  \n",
      "613          Farm                          3.8  \n",
      "614       Harvest                          5.1  \n",
      "615     Transport                          1.3  \n",
      "616     Wholesale                          2.7  \n",
      "..            ...                          ...  \n",
      "743          Farm                          3.6  \n",
      "744       Harvest                          4.6  \n",
      "745       Storage                          2.9  \n",
      "746     Transport                          1.0  \n",
      "747     Wholesale                          2.7  \n",
      "\n",
      "[136 rows x 7 columns]\n",
      "    timepointyears     fsc_location1  percentage_loss_of_quantity\n",
      "0             2003              Farm                     3.566667\n",
      "1             2003           Harvest                     5.133333\n",
      "2             2003           Storage                     2.866667\n",
      "3             2003         Transport                     1.233333\n",
      "4             2003         Wholesale                     2.700000\n",
      "5             2004              Farm                     3.566667\n",
      "6             2004           Harvest                     5.133333\n",
      "7             2004           Storage                     2.866667\n",
      "8             2004         Transport                     1.233333\n",
      "9             2004         Wholesale                     2.700000\n",
      "10            2005              Farm                     3.566667\n",
      "11            2005           Harvest                     5.133333\n",
      "12            2005           Storage                     2.866667\n",
      "13            2005         Transport                     1.233333\n",
      "14            2005         Wholesale                     2.700000\n",
      "15            2006              Farm                     3.566667\n",
      "16            2006           Harvest                     5.133333\n",
      "17            2006           Storage                     2.866667\n",
      "18            2006         Transport                     1.233333\n",
      "19            2006         Wholesale                     2.700000\n",
      "20            2007              Farm                     3.566667\n",
      "21            2007           Harvest                     5.133333\n",
      "22            2007           Storage                     2.866667\n",
      "23            2007         Transport                     1.233333\n",
      "24            2007         Wholesale                     2.700000\n",
      "25            2008              Farm                     3.500000\n",
      "26            2008           Harvest                     4.700000\n",
      "27            2008           Storage                     3.600000\n",
      "28            2008         Transport                     1.100000\n",
      "29            2008         Wholesale                     2.700000\n",
      "30            2009              Farm                     3.500000\n",
      "31            2009           Harvest                     4.700000\n",
      "32            2009           Storage                     3.600000\n",
      "33            2009         Transport                     1.100000\n",
      "34            2009         Wholesale                     2.700000\n",
      "35            2010              Farm                     3.500000\n",
      "36            2010           Harvest                     4.700000\n",
      "37            2010           Storage                     3.600000\n",
      "38            2010         Transport                     1.100000\n",
      "39            2010         Wholesale                     2.700000\n",
      "40            2011              Farm                     3.800000\n",
      "41            2011           Harvest                     5.100000\n",
      "42            2011           Storage                     7.100000\n",
      "43            2011         Transport                     1.300000\n",
      "44            2011         Wholesale                     2.700000\n",
      "45            2012              Farm                     3.800000\n",
      "46            2012           Harvest                     5.100000\n",
      "47            2012           Storage                     7.100000\n",
      "48            2012         Transport                     1.300000\n",
      "49            2012         Wholesale                     2.700000\n",
      "50            2013              Farm                     3.800000\n",
      "51            2013           Harvest                     5.100000\n",
      "52            2013           Storage                     7.100000\n",
      "53            2013         Transport                     1.300000\n",
      "54            2013  WholeSupplyChain                    35.000000\n",
      "55            2013         Wholesale                     2.700000\n"
     ]
    }
   ],
   "source": [
    "df_stage = df_new[df_new['country']=='Bangladesh']\n",
    "print(df_stage)\n",
    "df_sg1 = pd.DataFrame(df_stage.groupby(['timepointyears','fsc_location1']).agg({'percentage_loss_of_quantity':'mean'})).reset_index()\n",
    "print(df_sg1)\n",
    "df_stage1 = df_new[df_new['country']=='Cameroon']\n",
    "print(df_stage1)\n",
    "df_sg2 = pd.DataFrame(df_stage1.groupby(['timepointyears','fsc_location1']).agg({'percentage_loss_of_quantity':'mean'})).reset_index()\n",
    "print(df_sg2)"
   ]
  },
  {
   "cell_type": "code",
   "execution_count": 19,
   "metadata": {},
   "outputs": [
    {
     "name": "stdout",
     "output_type": "stream",
     "text": [
      "fsc_location1   Consumer  Distribution       Farm   Harvest  Processing  \\\n",
      "timepointyears                                                            \n",
      "2004                 NaN           NaN        NaN       NaN         NaN   \n",
      "2008                 NaN           NaN  41.450000       NaN         NaN   \n",
      "2009                3.61      0.180000   1.177500   2.12875      2.2850   \n",
      "2010                 NaN      8.325455   8.846667  30.13500      1.2925   \n",
      "2012                 NaN           NaN        NaN       NaN         NaN   \n",
      "2014                 NaN           NaN  25.185000       NaN         NaN   \n",
      "2016                 NaN      2.600000        NaN       NaN         NaN   \n",
      "\n",
      "fsc_location1   Restaurants    Retail  Storage  Traders   Traderss  Transport  \\\n",
      "timepointyears                                                                  \n",
      "2004                    NaN       NaN      NaN      NaN        NaN        NaN   \n",
      "2008                    NaN       NaN      NaN      NaN        NaN        NaN   \n",
      "2009                   4.52  1.525000   3.4050     1.55        NaN   0.393333   \n",
      "2010                    NaN  6.641818   5.8475     7.40   8.416667   7.580000   \n",
      "2012                    NaN       NaN   3.9600      NaN        NaN        NaN   \n",
      "2014                    NaN       NaN      NaN      NaN  10.000000  15.000000   \n",
      "2016                    NaN       NaN      NaN      NaN        NaN        NaN   \n",
      "\n",
      "fsc_location1   WholeSupplyChain  Wholesale  \n",
      "timepointyears                               \n",
      "2004                   30.010000        NaN  \n",
      "2008                         NaN        NaN  \n",
      "2009                   11.142500      1.145  \n",
      "2010                   31.911111        NaN  \n",
      "2012                         NaN        NaN  \n",
      "2014                         NaN        NaN  \n",
      "2016                         NaN        NaN  \n",
      "fsc_location1       Farm   Harvest   Storage  Transport  WholeSupplyChain  \\\n",
      "timepointyears                                                              \n",
      "2003            3.566667  5.133333  2.866667   1.233333               NaN   \n",
      "2004            3.566667  5.133333  2.866667   1.233333               NaN   \n",
      "2005            3.566667  5.133333  2.866667   1.233333               NaN   \n",
      "2006            3.566667  5.133333  2.866667   1.233333               NaN   \n",
      "2007            3.566667  5.133333  2.866667   1.233333               NaN   \n",
      "2008            3.500000  4.700000  3.600000   1.100000               NaN   \n",
      "2009            3.500000  4.700000  3.600000   1.100000               NaN   \n",
      "2010            3.500000  4.700000  3.600000   1.100000               NaN   \n",
      "2011            3.800000  5.100000  7.100000   1.300000               NaN   \n",
      "2012            3.800000  5.100000  7.100000   1.300000               NaN   \n",
      "2013            3.800000  5.100000  7.100000   1.300000              35.0   \n",
      "\n",
      "fsc_location1   Wholesale  \n",
      "timepointyears             \n",
      "2003                  2.7  \n",
      "2004                  2.7  \n",
      "2005                  2.7  \n",
      "2006                  2.7  \n",
      "2007                  2.7  \n",
      "2008                  2.7  \n",
      "2009                  2.7  \n",
      "2010                  2.7  \n",
      "2011                  2.7  \n",
      "2012                  2.7  \n",
      "2013                  2.7  \n"
     ]
    }
   ],
   "source": [
    "df_sgnew = df_sg1.pivot_table('percentage_loss_of_quantity', 'timepointyears', 'fsc_location1')\n",
    "print(df_sgnew)\n",
    "df_sgnew1 = df_sg2.pivot_table('percentage_loss_of_quantity', 'timepointyears', 'fsc_location1')\n",
    "print(df_sgnew1)"
   ]
  },
  {
   "cell_type": "code",
   "execution_count": 26,
   "metadata": {},
   "outputs": [
    {
     "data": {
      "text/plain": [
       "<matplotlib.legend.Legend at 0x7f8abaf1f730>"
      ]
     },
     "execution_count": 26,
     "metadata": {},
     "output_type": "execute_result"
    },
    {
     "data": {
      "image/png": "[encoded data removed]",
      "text/plain": [
       "<Figure size 720x720 with 1 Axes>"
      ]
     },
     "metadata": {
      "needs_background": "light"
     },
     "output_type": "display_data"
    }
   ],
   "source": [
    "#Plotting Food supply chain stages and the loss for Bangladesh and Cameroon as below. \n",
    "#changing the country name in above EDA's would give a different country of choice.\n",
    "\n",
    "\n",
    "ax = df_sgnew.plot.bar(figsize=(10,10),stacked=True,title='Bangladesh - Food Supply Chain Stages and the loss')\n",
    "plt.legend(loc=2,prop={'size': 16})\n"
   ]
  },
  {
   "cell_type": "code",
   "execution_count": 21,
   "metadata": {},
   "outputs": [
    {
     "data": {
      "text/plain": [
       "<matplotlib.legend.Legend at 0x7f8ab753b3d0>"
      ]
     },
     "execution_count": 21,
     "metadata": {},
     "output_type": "execute_result"
    },
    {
     "data": {
      "image/png": "[encoded data removed]",
      "text/plain": [
       "<Figure size 432x288 with 1 Axes>"
      ]
     },
     "metadata": {
      "needs_background": "light"
     },
     "output_type": "display_data"
    }
   ],
   "source": [
    "ax = df_sgnew1.plot.bar(stacked=True,title='Cameroon - Food Supply Chain Stages and the loss')\n",
    "plt.legend(loc=2, prop={'size': 10})"
   ]
  },
  {
   "cell_type": "code",
   "execution_count": null,
   "metadata": {},
   "outputs": [],
   "source": []
  }
 ],
 "metadata": {
  "kernelspec": {
   "display_name": "Python 3",
   "language": "python",
   "name": "python3"
  },
  "language_info": {
   "codemirror_mode": {
    "name": "ipython",
    "version": 3
   },
   "file_extension": ".py",
   "mimetype": "text/x-python",
   "name": "python",
   "nbconvert_exporter": "python",
   "pygments_lexer": "ipython3",
   "version": "3.8.5"
  }
 },
 "nbformat": 4,
 "nbformat_minor": 4
}
